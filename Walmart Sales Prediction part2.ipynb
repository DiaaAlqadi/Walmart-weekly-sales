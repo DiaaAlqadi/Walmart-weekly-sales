{
 "cells": [
  {
   "cell_type": "markdown",
   "id": "ce3a6967-ade6-423e-a661-289aa8fde856",
   "metadata": {
    "id": "ce3a6967-ade6-423e-a661-289aa8fde856"
   },
   "source": [
    "# Walmart Weekly Sales Prediction: A Data Science Showcase"
   ]
  },
  {
   "cell_type": "markdown",
   "id": "3859cedc-892e-4a12-a6fa-9c2f1a478b23",
   "metadata": {
    "id": "3859cedc-892e-4a12-a6fa-9c2f1a478b23",
    "tags": []
   },
   "source": [
    "## Imporing Libraries"
   ]
  },
  {
   "cell_type": "code",
   "execution_count": 1,
   "id": "fd50e184-0140-4321-ad25-3db6d874f4c5",
   "metadata": {
    "id": "fd50e184-0140-4321-ad25-3db6d874f4c5",
    "tags": []
   },
   "outputs": [],
   "source": [
    "import pandas as pd\n",
    "import numpy as np\n",
    "import matplotlib.pyplot as plt\n",
    "import seaborn as sns\n",
    "from sklearn.linear_model import LinearRegression, Ridge,Lasso\n",
    "from sklearn.tree import DecisionTreeRegressor\n",
    "from sklearn.ensemble import RandomForestRegressor\n",
    "from sklearn.model_selection import train_test_split,GridSearchCV,KFold,cross_val_score,RandomizedSearchCV\n",
    "from sklearn.preprocessing import StandardScaler,LabelBinarizer,OneHotEncoder,OrdinalEncoder\n",
    "from sklearn.pipeline import Pipeline\n",
    "from sklearn.compose import ColumnTransformer\n",
    "from sklearn.metrics import mean_absolute_error, mean_squared_error, r2_score\n",
    "from sklearn.decomposition import FastICA,PCA, TruncatedSVD\n",
    "from sklearn.discriminant_analysis import LinearDiscriminantAnalysis as LDA\n",
    "from sklearn.manifold import TSNE\n",
    "from sklearn.feature_selection import SelectKBest, f_regression, RFE\n",
    "from scipy import stats\n",
    "import time\n",
    "import warnings\n",
    "warnings.filterwarnings('ignore')"
   ]
  },
  {
   "cell_type": "markdown",
   "id": "c8876996-6696-46f6-b355-de7fb5e6242c",
   "metadata": {
    "id": "c8876996-6696-46f6-b355-de7fb5e6242c"
   },
   "source": [
    "## Loading Data"
   ]
  },
  {
   "cell_type": "code",
   "execution_count": 2,
   "id": "f06794eb-7069-476c-8ef2-22f01a826805",
   "metadata": {
    "colab": {
     "base_uri": "https://localhost:8080/",
     "height": 226
    },
    "id": "f06794eb-7069-476c-8ef2-22f01a826805",
    "outputId": "bfa9538d-6f9c-446a-84ab-9de7dfc7094f",
    "tags": []
   },
   "outputs": [
    {
     "data": {
      "text/html": [
       "<div>\n",
       "<style scoped>\n",
       "    .dataframe tbody tr th:only-of-type {\n",
       "        vertical-align: middle;\n",
       "    }\n",
       "\n",
       "    .dataframe tbody tr th {\n",
       "        vertical-align: top;\n",
       "    }\n",
       "\n",
       "    .dataframe thead th {\n",
       "        text-align: right;\n",
       "    }\n",
       "</style>\n",
       "<table border=\"1\" class=\"dataframe\">\n",
       "  <thead>\n",
       "    <tr style=\"text-align: right;\">\n",
       "      <th></th>\n",
       "      <th>Store</th>\n",
       "      <th>Dept</th>\n",
       "      <th>Date</th>\n",
       "      <th>Year</th>\n",
       "      <th>Month</th>\n",
       "      <th>Weekly_Sales</th>\n",
       "      <th>IsHoliday</th>\n",
       "      <th>Type</th>\n",
       "      <th>Size</th>\n",
       "      <th>Temperature</th>\n",
       "      <th>Fuel_Price</th>\n",
       "      <th>MarkDown1</th>\n",
       "      <th>MarkDown2</th>\n",
       "      <th>MarkDown3</th>\n",
       "      <th>MarkDown4</th>\n",
       "      <th>MarkDown5</th>\n",
       "      <th>CPI</th>\n",
       "      <th>Unemployment</th>\n",
       "    </tr>\n",
       "  </thead>\n",
       "  <tbody>\n",
       "    <tr>\n",
       "      <th>0</th>\n",
       "      <td>1</td>\n",
       "      <td>1</td>\n",
       "      <td>2/5/2010</td>\n",
       "      <td>2010</td>\n",
       "      <td>2</td>\n",
       "      <td>24924.50</td>\n",
       "      <td>0</td>\n",
       "      <td>A</td>\n",
       "      <td>151315</td>\n",
       "      <td>5.727778</td>\n",
       "      <td>2.572</td>\n",
       "      <td>0.0</td>\n",
       "      <td>0.0</td>\n",
       "      <td>0.0</td>\n",
       "      <td>0.0</td>\n",
       "      <td>0.0</td>\n",
       "      <td>211.096358</td>\n",
       "      <td>8.106</td>\n",
       "    </tr>\n",
       "    <tr>\n",
       "      <th>1</th>\n",
       "      <td>1</td>\n",
       "      <td>2</td>\n",
       "      <td>2/5/2010</td>\n",
       "      <td>2010</td>\n",
       "      <td>2</td>\n",
       "      <td>50605.27</td>\n",
       "      <td>0</td>\n",
       "      <td>A</td>\n",
       "      <td>151315</td>\n",
       "      <td>5.727778</td>\n",
       "      <td>2.572</td>\n",
       "      <td>0.0</td>\n",
       "      <td>0.0</td>\n",
       "      <td>0.0</td>\n",
       "      <td>0.0</td>\n",
       "      <td>0.0</td>\n",
       "      <td>211.096358</td>\n",
       "      <td>8.106</td>\n",
       "    </tr>\n",
       "    <tr>\n",
       "      <th>2</th>\n",
       "      <td>1</td>\n",
       "      <td>3</td>\n",
       "      <td>2/5/2010</td>\n",
       "      <td>2010</td>\n",
       "      <td>2</td>\n",
       "      <td>13740.12</td>\n",
       "      <td>0</td>\n",
       "      <td>A</td>\n",
       "      <td>151315</td>\n",
       "      <td>5.727778</td>\n",
       "      <td>2.572</td>\n",
       "      <td>0.0</td>\n",
       "      <td>0.0</td>\n",
       "      <td>0.0</td>\n",
       "      <td>0.0</td>\n",
       "      <td>0.0</td>\n",
       "      <td>211.096358</td>\n",
       "      <td>8.106</td>\n",
       "    </tr>\n",
       "    <tr>\n",
       "      <th>3</th>\n",
       "      <td>1</td>\n",
       "      <td>4</td>\n",
       "      <td>2/5/2010</td>\n",
       "      <td>2010</td>\n",
       "      <td>2</td>\n",
       "      <td>39954.04</td>\n",
       "      <td>0</td>\n",
       "      <td>A</td>\n",
       "      <td>151315</td>\n",
       "      <td>5.727778</td>\n",
       "      <td>2.572</td>\n",
       "      <td>0.0</td>\n",
       "      <td>0.0</td>\n",
       "      <td>0.0</td>\n",
       "      <td>0.0</td>\n",
       "      <td>0.0</td>\n",
       "      <td>211.096358</td>\n",
       "      <td>8.106</td>\n",
       "    </tr>\n",
       "    <tr>\n",
       "      <th>4</th>\n",
       "      <td>1</td>\n",
       "      <td>5</td>\n",
       "      <td>2/5/2010</td>\n",
       "      <td>2010</td>\n",
       "      <td>2</td>\n",
       "      <td>32229.38</td>\n",
       "      <td>0</td>\n",
       "      <td>A</td>\n",
       "      <td>151315</td>\n",
       "      <td>5.727778</td>\n",
       "      <td>2.572</td>\n",
       "      <td>0.0</td>\n",
       "      <td>0.0</td>\n",
       "      <td>0.0</td>\n",
       "      <td>0.0</td>\n",
       "      <td>0.0</td>\n",
       "      <td>211.096358</td>\n",
       "      <td>8.106</td>\n",
       "    </tr>\n",
       "  </tbody>\n",
       "</table>\n",
       "</div>"
      ],
      "text/plain": [
       "   Store  Dept      Date  Year  Month  Weekly_Sales  IsHoliday Type    Size  \\\n",
       "0      1     1  2/5/2010  2010      2      24924.50          0    A  151315   \n",
       "1      1     2  2/5/2010  2010      2      50605.27          0    A  151315   \n",
       "2      1     3  2/5/2010  2010      2      13740.12          0    A  151315   \n",
       "3      1     4  2/5/2010  2010      2      39954.04          0    A  151315   \n",
       "4      1     5  2/5/2010  2010      2      32229.38          0    A  151315   \n",
       "\n",
       "   Temperature  Fuel_Price  MarkDown1  MarkDown2  MarkDown3  MarkDown4  \\\n",
       "0     5.727778       2.572        0.0        0.0        0.0        0.0   \n",
       "1     5.727778       2.572        0.0        0.0        0.0        0.0   \n",
       "2     5.727778       2.572        0.0        0.0        0.0        0.0   \n",
       "3     5.727778       2.572        0.0        0.0        0.0        0.0   \n",
       "4     5.727778       2.572        0.0        0.0        0.0        0.0   \n",
       "\n",
       "   MarkDown5         CPI  Unemployment  \n",
       "0        0.0  211.096358         8.106  \n",
       "1        0.0  211.096358         8.106  \n",
       "2        0.0  211.096358         8.106  \n",
       "3        0.0  211.096358         8.106  \n",
       "4        0.0  211.096358         8.106  "
      ]
     },
     "execution_count": 2,
     "metadata": {},
     "output_type": "execute_result"
    }
   ],
   "source": [
    "df=pd.read_csv('master.csv')\n",
    "df.head()"
   ]
  },
  {
   "cell_type": "code",
   "execution_count": 3,
   "id": "730e8931-813f-4f9e-99c9-7bf75e6751ec",
   "metadata": {
    "colab": {
     "base_uri": "https://localhost:8080/"
    },
    "id": "730e8931-813f-4f9e-99c9-7bf75e6751ec",
    "outputId": "b8c363f7-96ac-49c9-dded-41c04086577a",
    "tags": []
   },
   "outputs": [
    {
     "name": "stdout",
     "output_type": "stream",
     "text": [
      "<class 'pandas.core.frame.DataFrame'>\n",
      "RangeIndex: 421570 entries, 0 to 421569\n",
      "Data columns (total 18 columns):\n",
      " #   Column        Non-Null Count   Dtype  \n",
      "---  ------        --------------   -----  \n",
      " 0   Store         421570 non-null  int64  \n",
      " 1   Dept          421570 non-null  int64  \n",
      " 2   Date          421570 non-null  object \n",
      " 3   Year          421570 non-null  int64  \n",
      " 4   Month         421570 non-null  int64  \n",
      " 5   Weekly_Sales  421570 non-null  float64\n",
      " 6   IsHoliday     421570 non-null  int64  \n",
      " 7   Type          421570 non-null  object \n",
      " 8   Size          421570 non-null  int64  \n",
      " 9   Temperature   421570 non-null  float64\n",
      " 10  Fuel_Price    421570 non-null  float64\n",
      " 11  MarkDown1     421570 non-null  float64\n",
      " 12  MarkDown2     421570 non-null  float64\n",
      " 13  MarkDown3     421570 non-null  float64\n",
      " 14  MarkDown4     421570 non-null  float64\n",
      " 15  MarkDown5     421570 non-null  float64\n",
      " 16  CPI           421570 non-null  float64\n",
      " 17  Unemployment  421570 non-null  float64\n",
      "dtypes: float64(10), int64(6), object(2)\n",
      "memory usage: 57.9+ MB\n"
     ]
    }
   ],
   "source": [
    "df.info()"
   ]
  },
  {
   "cell_type": "markdown",
   "id": "8490bd5f-a409-4a52-8176-03e2b1fe9e5c",
   "metadata": {
    "id": "8490bd5f-a409-4a52-8176-03e2b1fe9e5c",
    "tags": []
   },
   "source": [
    "## Final Data Preprocessing"
   ]
  },
  {
   "cell_type": "code",
   "execution_count": 4,
   "id": "8b6b0456-95a8-4034-9cc8-d4aa3694fd87",
   "metadata": {
    "id": "8b6b0456-95a8-4034-9cc8-d4aa3694fd87",
    "tags": []
   },
   "outputs": [],
   "source": [
    "# Create a copy of the DataFrame 'df' to avoid modifying the original DataFrame.\n",
    "df_copy= df.copy()\n",
    "\n",
    "# Converting selected columns to 'object' data type for treating them as categorical variables.\n",
    "df_copy['Store']=df_copy.Store.astype('object')\n",
    "df_copy['Dept']=df_copy.Dept.astype('object')\n",
    "df_copy['Date']=pd.to_datetime(df_copy.Date)\n",
    "df_copy['Month']=df_copy.Month.astype('object')\n",
    "df_copy['Year']=df_copy.Year.astype('int64')"
   ]
  },
  {
   "cell_type": "code",
   "execution_count": 5,
   "id": "kvz0aBb3eUf2",
   "metadata": {
    "colab": {
     "base_uri": "https://localhost:8080/"
    },
    "id": "kvz0aBb3eUf2",
    "outputId": "aac8cf91-af3d-451a-92f5-84dca8097f78"
   },
   "outputs": [
    {
     "name": "stdout",
     "output_type": "stream",
     "text": [
      "<class 'pandas.core.frame.DataFrame'>\n",
      "RangeIndex: 421570 entries, 0 to 421569\n",
      "Data columns (total 18 columns):\n",
      " #   Column        Non-Null Count   Dtype         \n",
      "---  ------        --------------   -----         \n",
      " 0   Store         421570 non-null  object        \n",
      " 1   Dept          421570 non-null  object        \n",
      " 2   Date          421570 non-null  datetime64[ns]\n",
      " 3   Year          421570 non-null  int64         \n",
      " 4   Month         421570 non-null  object        \n",
      " 5   Weekly_Sales  421570 non-null  float64       \n",
      " 6   IsHoliday     421570 non-null  int64         \n",
      " 7   Type          421570 non-null  object        \n",
      " 8   Size          421570 non-null  int64         \n",
      " 9   Temperature   421570 non-null  float64       \n",
      " 10  Fuel_Price    421570 non-null  float64       \n",
      " 11  MarkDown1     421570 non-null  float64       \n",
      " 12  MarkDown2     421570 non-null  float64       \n",
      " 13  MarkDown3     421570 non-null  float64       \n",
      " 14  MarkDown4     421570 non-null  float64       \n",
      " 15  MarkDown5     421570 non-null  float64       \n",
      " 16  CPI           421570 non-null  float64       \n",
      " 17  Unemployment  421570 non-null  float64       \n",
      "dtypes: datetime64[ns](1), float64(10), int64(3), object(4)\n",
      "memory usage: 57.9+ MB\n"
     ]
    }
   ],
   "source": [
    "df_copy.info()"
   ]
  },
  {
   "cell_type": "markdown",
   "id": "VwjIqbv2aF5A",
   "metadata": {
    "id": "VwjIqbv2aF5A"
   },
   "source": [
    "## Feature Selection using OrdinalEncoder\n",
    "One of OneHot Encoder's breakdowns, that its generate a large number of sub features or columns making feature selection even harder, in below experiment we will rerun feature selection trial with OrdinalEncoder as it expect to generate less number of features or columns."
   ]
  },
  {
   "cell_type": "code",
   "execution_count": 6,
   "id": "dbe01e8f-28d1-40ca-b695-ecf6023ca88c",
   "metadata": {
    "id": "dbe01e8f-28d1-40ca-b695-ecf6023ca88c",
    "tags": []
   },
   "outputs": [],
   "source": [
    "# Filter the data for the training set (February 2010 to March 2012)\n",
    "train_start_date = '2010-02-01'\n",
    "train_end_date = '2012-03-31'\n",
    "train_mask = (df_copy['Date'] >= train_start_date) & (df_copy['Date'] <= train_end_date)\n",
    "X_train = df_copy[train_mask].drop(columns=['Date', 'Weekly_Sales'])\n",
    "y_train = df_copy[train_mask]['Weekly_Sales']\n",
    "\n",
    "# Filter the data for the test set (April 2012 to October 2012)\n",
    "test_start_date = '2012-04-01'\n",
    "test_end_date = '2012-10-31'\n",
    "test_mask = (df_copy['Date'] >= test_start_date) & (df_copy['Date'] <= test_end_date)\n",
    "X_test = df_copy[test_mask].drop(columns=['Date', 'Weekly_Sales'])\n",
    "y_test = df_copy[test_mask]['Weekly_Sales']"
   ]
  },
  {
   "cell_type": "code",
   "execution_count": 7,
   "id": "2zqRgM0saIhJ",
   "metadata": {
    "id": "2zqRgM0saIhJ"
   },
   "outputs": [],
   "source": [
    "# Create an instance of the OrdinalEncoder class, which is used for encoding categorical features into numerical values.\n",
    "model_incoder = OrdinalEncoder()\n",
    "\n",
    "# Fit the OrdinalEncoder on the feature matrix X. This step determines the mapping of categories to numeric values.\n",
    "model_incoder.fit(df_copy.drop(columns=['Date', 'Weekly_Sales']))\n",
    "\n",
    "# Transform (encode) the original feature matrix X into a new matrix x_trans where categorical values are represented as numeric values.\n",
    "X_train_trans = model_incoder.transform(X_train)\n",
    "X_test_trans = model_incoder.transform(X_test)\n"
   ]
  },
  {
   "cell_type": "code",
   "execution_count": 8,
   "id": "V43Vi8egakwv",
   "metadata": {
    "colab": {
     "base_uri": "https://localhost:8080/",
     "height": 487
    },
    "id": "V43Vi8egakwv",
    "outputId": "7f751acb-affb-47a8-da66-2fb84e6f2b0a"
   },
   "outputs": [
    {
     "data": {
      "image/png": "[encoded data removed]",
      "text/plain": [
       "<Figure size 1000x500 with 1 Axes>"
      ]
     },
     "metadata": {},
     "output_type": "display_data"
    }
   ],
   "source": [
    "def run_model_MRMR(k):\n",
    "    '''\n",
    "    Peform feature selection using the mRMR method, given a certain number of columns.\n",
    "    The function will append model accuracy with the result array\n",
    "    '''\n",
    "    global X_train_trans\n",
    "    global X_test_trans\n",
    "    slct_best = SelectKBest(k=k, score_func=f_regression)\n",
    "    slct_best = slct_best.fit(X_train_trans, y_train)\n",
    "    X_train_trans_ = slct_best.transform(X_train_trans)\n",
    "    X_test_trans_ = slct_best.transform(X_test_trans)\n",
    "    model = Model()\n",
    "    model.fit(X_train_trans_, y_train)\n",
    "    predictions = model.predict(X_test_trans_)\n",
    "    r2 = r2_score(y_test, predictions)\n",
    "    result.append({'k': k, 'MRMR R2': r2})\n",
    "\n",
    "def run_model_greedy(k):\n",
    "    '''\n",
    "    Peform feature selection using the RFE method, given a certain number of columns.\n",
    "    The function will append model accuracy with the result array\n",
    "    '''\n",
    "    global X_train_trans\n",
    "    global X_test_trans\n",
    "    model = Model()\n",
    "    rfe = RFE(model,n_features_to_select = k)\n",
    "    rfe = rfe.fit(X_train_trans,y_train)\n",
    "    X_train_trans_ = rfe.transform(X_train_trans)\n",
    "    X_test_trans_ = rfe.transform(X_test_trans)\n",
    "    model = Model()\n",
    "    model.fit(X_train_trans_,y_train)\n",
    "    predictions = model.predict(X_test_trans_)\n",
    "    return r2_score(y_test,predictions)\n",
    "\n",
    "Model = DecisionTreeRegressor\n",
    "result = []\n",
    "for k in range(2,len(X_test.columns)+1,2):\n",
    "    run_model_MRMR(k)\n",
    "\n",
    "result = pd.DataFrame(result)\n",
    "result_greedy = []\n",
    "for k in result['k']:\n",
    "    result_greedy.append(run_model_greedy(k))\n",
    "result['greedy'] = result_greedy\n",
    "ax = plt.figure(figsize=(10,5))\n",
    "plt.plot(result['k'],result['greedy'], label = 'RFE')\n",
    "plt.plot(result['k'],result['MRMR R2'], label = 'mRMR')\n",
    "plt.legend()\n",
    "plt.title('Number of features vs Model accuracy using RFE & mRMR')\n",
    "plt.xlabel('Columns number')\n",
    "plt.ylabel('Model accuracy')\n",
    "plt.grid()\n",
    "plt.show()"
   ]
  },
  {
   "cell_type": "markdown",
   "id": "lE1EfQcZborV",
   "metadata": {
    "id": "lE1EfQcZborV"
   },
   "source": [
    "### Result\n",
    "\n",
    "From above figure we can conclude below two points:\n",
    "\n",
    "   1 - The larger columns selected the greater model accuruacy is, since model accurucy is increased when increasing the feature number we decide to include all features in the model.\n",
    "   \n",
    "   2 - Using OrdinalEncoding actually leads for similar accurucay as encoding the model with OneHot technique, as a result we decise to use OrdinalEncoding in our model since it will lead for same model accurucy and require less computing time due to final number of features is 16 instead of 153!"
   ]
  },
  {
   "cell_type": "markdown",
   "id": "35284bf3-0d99-42cb-8ec8-cc99e0404f01",
   "metadata": {
    "id": "35284bf3-0d99-42cb-8ec8-cc99e0404f01",
    "tags": []
   },
   "source": [
    "## Model Selection"
   ]
  },
  {
   "cell_type": "markdown",
   "id": "ca0759fd-8dfe-4aa6-86d2-a27823a79a10",
   "metadata": {
    "id": "ca0759fd-8dfe-4aa6-86d2-a27823a79a10"
   },
   "source": [
    "The purpose here is to automate the training and evaluation of machine learning models for predicting weekly sales at Walmart stores. It involves defining functions for training and evaluating models. The train_model function pre-processes data, combines preprocessing and modeling steps into a pipeline, measures training time, and returns the trained model. The evaluate_model function calculates key performance metrics like MAE, RMSE, and R-squared for model assessment.\n",
    "\n",
    "Various models, including Linear Regression, Ridge Regression, Lasso Regression, Decision Tree Regressor, and Random Forest Regressor, are defined and trained. Data is split into training and testing sets, models are trained and evaluated on the test data, and results are printed. This automation streamlines model comparison, aiding in the selection of the best model for predicting Walmart's weekly sales."
   ]
  },
  {
   "cell_type": "code",
   "execution_count": 9,
   "id": "9acfb970-716f-4a69-8d59-f7e7ef41935a",
   "metadata": {
    "colab": {
     "base_uri": "https://localhost:8080/"
    },
    "id": "9acfb970-716f-4a69-8d59-f7e7ef41935a",
    "outputId": "0ee3bb12-f665-4544-ac4e-3b1cbb13a02c",
    "tags": []
   },
   "outputs": [
    {
     "name": "stdout",
     "output_type": "stream",
     "text": [
      "Training time for LinearRegression(): 6.7537 seconds\n",
      "Training time for Ridge(alpha=10): 1.5445 seconds\n",
      "Training time for Lasso(alpha=10): 24.7028 seconds\n",
      "Training time for DecisionTreeRegressor(): 37.3358 seconds\n",
      "Training time for RandomForestRegressor(n_estimators=10): 210.1298 seconds\n",
      "\n",
      "Model: LinearRegression\n",
      "MAE: 7987.7437\n",
      "RMSE: 12235.5764\n",
      "R-squared: 0.6926\n",
      "\n",
      "\n",
      "\n",
      "Model: Ridge\n",
      "MAE: 7979.8804\n",
      "RMSE: 12231.8539\n",
      "R-squared: 0.6928\n",
      "\n",
      "\n",
      "\n",
      "Model: Lasso\n",
      "MAE: 7914.7157\n",
      "RMSE: 12268.2787\n",
      "R-squared: 0.6910\n",
      "\n",
      "\n",
      "\n",
      "Model: DecisionTree\n",
      "MAE: 2505.8210\n",
      "RMSE: 5352.5212\n",
      "R-squared: 0.9412\n",
      "\n",
      "\n",
      "\n",
      "Model: RandomForest\n",
      "MAE: 1975.9104\n",
      "RMSE: 4100.5899\n",
      "R-squared: 0.9655\n",
      "\n",
      "\n"
     ]
    }
   ],
   "source": [
    "def train_model(model, X_train, y_train):\n",
    "    \"\"\"\n",
    "    Train a machine learning model with data preprocessing using a pipeline.\n",
    "\n",
    "    Parameters:\n",
    "    - model: The machine learning model to be trained.\n",
    "    - X_train: The training features.\n",
    "    - y_train: The training target values.\n",
    "\n",
    "    Returns:\n",
    "    - trained_model: A trained model wrapped in a pipeline, including preprocessing steps.\n",
    "\n",
    "    This function takes a machine learning model, training features (X_train), and training target values (y_train).\n",
    "    It performs the following steps:\n",
    "    1. Preprocesses the data by applying one-hot encoding to categorical columns and scaling numerical columns.\n",
    "    2. Combines the preprocessing transformers into a pipeline along with the specified model.\n",
    "    3. Fits the pipeline on the training data.\n",
    "    4. Measures the training time and prints it.\n",
    "\n",
    "    The trained model, including preprocessing steps, is returned for further use.\n",
    "    \"\"\"\n",
    "    # Extract and categorize the column data types into categorical and numerical for further preprocessing.\n",
    "    data_types = X_train.dtypes\n",
    "    categorical_columns = data_types[data_types == 'object'].index.tolist()\n",
    "    numerical_columns = data_types[data_types != 'object'].index.tolist()\n",
    "\n",
    "    # Create transformers for preprocessing categorical and numerical columns\n",
    "    categorical_transformer = Pipeline(steps=[('onehot', OneHotEncoder(sparse_output=False))])\n",
    "    numerical_transformer = Pipeline(steps=[('scaler', StandardScaler())])\n",
    "\n",
    "    # Combine transformers for both types of columns\n",
    "    preprocessor = ColumnTransformer(\n",
    "        transformers=[\n",
    "            ('cat', categorical_transformer, categorical_columns),\n",
    "            ('num', numerical_transformer, numerical_columns)\n",
    "        ], remainder='passthrough')\n",
    "\n",
    "\n",
    "    #Create the final pipeline\n",
    "    pipeline = Pipeline(steps=[\n",
    "        ('preprocessor', preprocessor),\n",
    "        ('model', model)\n",
    "    ])\n",
    "\n",
    "    # Record the start time to measure the training duration of the machine learning pipeline.\n",
    "    start_time = time.time()\n",
    "\n",
    "    # Fit the machine learning pipeline on the training data, measure the training time, and print the duration.\n",
    "    pipeline.fit(X_train, y_train)\n",
    "    end_time = time.time()\n",
    "    elapsed_time = end_time - start_time\n",
    "    print(f\"Training time for {model}: {elapsed_time:.4f} seconds\")\n",
    "\n",
    "\n",
    "    return pipeline\n",
    "\n",
    "# Function to evaluate a model\n",
    "def evaluate_model(model, X_test, y_test):\n",
    "    \"\"\"\n",
    "        Evaluate a machine learning model on a test dataset.\n",
    "\n",
    "        Parameters:\n",
    "        - model: The trained machine learning model to be evaluated.\n",
    "        - X_test: The test features.\n",
    "        - y_test: The true target values for the test dataset.\n",
    "\n",
    "        Returns:\n",
    "        - evaluation_results: A dictionary containing evaluation metrics, including MAE, MSE, and R-squared.\n",
    "\n",
    "        This function takes a trained machine learning model, test features (X_test), and true target values (y_test).\n",
    "        It performs the following steps:\n",
    "        1. Uses the trained model to make predictions on the test features.\n",
    "        2. Calculates Mean Absolute Error (MAE), Mean Squared Error (MSE), and R-squared (R2) between the predicted\n",
    "           values and true target values.\n",
    "        3. Returns a dictionary containing the computed evaluation metrics.\n",
    "\n",
    "         The evaluation results provide insights into the model's performance on the test dataset.\n",
    "    \"\"\"\n",
    "    # Use the trained model to make predictions on the test data.\n",
    "    # Then calculate and return evaluation metrics including MAE, RMSE, and R-squared.\n",
    "    y_pred = model.predict(X_test)\n",
    "    mae = mean_absolute_error(y_test, y_pred)\n",
    "    rmse = mean_squared_error(y_test, y_pred,squared=False)\n",
    "    r2 = r2_score(y_test, y_pred)\n",
    "\n",
    "    return {\"MAE\": mae, \"RMSE\": rmse, \"R-squared\": r2}\n",
    "\n",
    "# Define your models\n",
    "models = {\n",
    "    'LinearRegression': LinearRegression(),\n",
    "    'Ridge': Ridge(alpha=10),\n",
    "    'Lasso': Lasso(alpha=10),\n",
    "    'DecisionTree': DecisionTreeRegressor(),\n",
    "    'RandomForest':RandomForestRegressor(n_estimators=10)\n",
    "}\n",
    "\n",
    "\n",
    "# Train the models and store them in a dictionary\n",
    "trained_models = {}\n",
    "for model_name, model in models.items():\n",
    "    trained_models[model_name] = train_model(model, X_train, y_train)\n",
    "\n",
    "\n",
    "# Evaluate the models and store the results in a dictionary\n",
    "results = {}\n",
    "for model_name, model in trained_models.items():\n",
    "    results[model_name] = evaluate_model(model,X_test, y_test)\n",
    "\n",
    "# Print the results\n",
    "for model_name, metrics in results.items():\n",
    "    print(f\"\\nModel: {model_name}\")\n",
    "    for metric_name, value in metrics.items():\n",
    "        print(f\"{metric_name}: {value:.4f}\")\n",
    "    print('\\n')"
   ]
  },
  {
   "cell_type": "markdown",
   "id": "c6d1107f-2c09-40ea-830b-6a822756b23b",
   "metadata": {
    "id": "c6d1107f-2c09-40ea-830b-6a822756b23b"
   },
   "source": [
    "The decision to choose the Decision Tree model over the other options is based on several factors:\n",
    "\n",
    "1. **Excellent Predictive Performance**: The Decision Tree model exhibits outstanding predictive performance, as indicated by its low Mean Absolute Error (MAE), Root Mean Squared Error (RMSE), and high R-squared value. These metrics collectively suggest that the model captures and explains a significant portion of the variance in the data, resulting in accurate sales predictions.\n",
    "\n",
    "2. **Faster Training Time**: The Decision Tree model boasts a relatively shorter training time compared to the Random Forest model. While it takes significantly less time to train, it still delivers competitive predictive performance, making it a practical choice for large datasets or scenarios where model training time is a concern.\n",
    "\n",
    "3. **Low Complexity**: Decision Trees have a straightforward structure with a hierarchy of decisions based on features, making them less complex than ensemble methods like Random Forests. This simplicity can reduce the risk of overfitting.\n",
    "\n",
    "4. **Applicability**: Decision Trees are versatile and can be easily adapted to handle various types of features and datasets. Their ability to handle both categorical and numerical data makes them suitable for a wide range of applications, including sales prediction for Walmart stores."
   ]
  },
  {
   "cell_type": "markdown",
   "id": "9b9965f3-7a06-49c3-b4c3-40a98cfc0f84",
   "metadata": {
    "id": "9b9965f3-7a06-49c3-b4c3-40a98cfc0f84"
   },
   "source": [
    "## Hyperparameters Tuning"
   ]
  },
  {
   "cell_type": "code",
   "execution_count": 10,
   "id": "ta0z0cvNNQ6O",
   "metadata": {
    "id": "ta0z0cvNNQ6O"
   },
   "outputs": [],
   "source": [
    "# Define a parameter grid for hyperparameter tuning\n",
    "param_grid = {\n",
    "    'criterion': ['squared_error','friedman_mse'],  # Valid criteria for regression\n",
    "    'max_depth': [None, 105],  # Maximum depth of the tree\n",
    "    'min_samples_split': [2, 30]  # Minimum samples required to split an internal node\n",
    "}"
   ]
  },
  {
   "cell_type": "code",
   "execution_count": 11,
   "id": "n_HKsFG8nelb",
   "metadata": {
    "id": "n_HKsFG8nelb"
   },
   "outputs": [],
   "source": [
    "# Initialize an OrdinalEncoder for categorical feature encoding.\n",
    "encoder = OrdinalEncoder()\n",
    "\n",
    "# Initialize a DecisionTreeRegressor model.\n",
    "model = DecisionTreeRegressor()\n",
    "\n",
    "# Fit the OrdinalEncoder on the training data after excluding non-numeric columns.\n",
    "encoder.fit(df_copy.drop(columns=['Date', 'Weekly_Sales']))\n",
    "\n",
    "# Transform the training features using the fitted encoder.\n",
    "X_trans = encoder.transform(X_train)"
   ]
  },
  {
   "cell_type": "code",
   "execution_count": 12,
   "id": "3L2nHodiNkHk",
   "metadata": {
    "colab": {
     "base_uri": "https://localhost:8080/",
     "height": 117
    },
    "id": "3L2nHodiNkHk",
    "outputId": "67171753-f40f-412c-d911-a75224f11c97"
   },
   "outputs": [
    {
     "data": {
      "text/html": [
       "<style>#sk-container-id-1 {color: black;}#sk-container-id-1 pre{padding: 0;}#sk-container-id-1 div.sk-toggleable {background-color: white;}#sk-container-id-1 label.sk-toggleable__label {cursor: pointer;display: block;width: 100%;margin-bottom: 0;padding: 0.3em;box-sizing: border-box;text-align: center;}#sk-container-id-1 label.sk-toggleable__label-arrow:before {content: \"▸\";float: left;margin-right: 0.25em;color: #696969;}#sk-container-id-1 label.sk-toggleable__label-arrow:hover:before {color: black;}#sk-container-id-1 div.sk-estimator:hover label.sk-toggleable__label-arrow:before {color: black;}#sk-container-id-1 div.sk-toggleable__content {max-height: 0;max-width: 0;overflow: hidden;text-align: left;background-color: #f0f8ff;}#sk-container-id-1 div.sk-toggleable__content pre {margin: 0.2em;color: black;border-radius: 0.25em;background-color: #f0f8ff;}#sk-container-id-1 input.sk-toggleable__control:checked~div.sk-toggleable__content {max-height: 200px;max-width: 100%;overflow: auto;}#sk-container-id-1 input.sk-toggleable__control:checked~label.sk-toggleable__label-arrow:before {content: \"▾\";}#sk-container-id-1 div.sk-estimator input.sk-toggleable__control:checked~label.sk-toggleable__label {background-color: #d4ebff;}#sk-container-id-1 div.sk-label input.sk-toggleable__control:checked~label.sk-toggleable__label {background-color: #d4ebff;}#sk-container-id-1 input.sk-hidden--visually {border: 0;clip: rect(1px 1px 1px 1px);clip: rect(1px, 1px, 1px, 1px);height: 1px;margin: -1px;overflow: hidden;padding: 0;position: absolute;width: 1px;}#sk-container-id-1 div.sk-estimator {font-family: monospace;background-color: #f0f8ff;border: 1px dotted black;border-radius: 0.25em;box-sizing: border-box;margin-bottom: 0.5em;}#sk-container-id-1 div.sk-estimator:hover {background-color: #d4ebff;}#sk-container-id-1 div.sk-parallel-item::after {content: \"\";width: 100%;border-bottom: 1px solid gray;flex-grow: 1;}#sk-container-id-1 div.sk-label:hover label.sk-toggleable__label {background-color: #d4ebff;}#sk-container-id-1 div.sk-serial::before {content: \"\";position: absolute;border-left: 1px solid gray;box-sizing: border-box;top: 0;bottom: 0;left: 50%;z-index: 0;}#sk-container-id-1 div.sk-serial {display: flex;flex-direction: column;align-items: center;background-color: white;padding-right: 0.2em;padding-left: 0.2em;position: relative;}#sk-container-id-1 div.sk-item {position: relative;z-index: 1;}#sk-container-id-1 div.sk-parallel {display: flex;align-items: stretch;justify-content: center;background-color: white;position: relative;}#sk-container-id-1 div.sk-item::before, #sk-container-id-1 div.sk-parallel-item::before {content: \"\";position: absolute;border-left: 1px solid gray;box-sizing: border-box;top: 0;bottom: 0;left: 50%;z-index: -1;}#sk-container-id-1 div.sk-parallel-item {display: flex;flex-direction: column;z-index: 1;position: relative;background-color: white;}#sk-container-id-1 div.sk-parallel-item:first-child::after {align-self: flex-end;width: 50%;}#sk-container-id-1 div.sk-parallel-item:last-child::after {align-self: flex-start;width: 50%;}#sk-container-id-1 div.sk-parallel-item:only-child::after {width: 0;}#sk-container-id-1 div.sk-dashed-wrapped {border: 1px dashed gray;margin: 0 0.4em 0.5em 0.4em;box-sizing: border-box;padding-bottom: 0.4em;background-color: white;}#sk-container-id-1 div.sk-label label {font-family: monospace;font-weight: bold;display: inline-block;line-height: 1.2em;}#sk-container-id-1 div.sk-label-container {text-align: center;}#sk-container-id-1 div.sk-container {/* jupyter's `normalize.less` sets `[hidden] { display: none; }` but bootstrap.min.css set `[hidden] { display: none !important; }` so we also need the `!important` here to be able to override the default hidden behavior on the sphinx rendered scikit-learn.org. See: https://github.com/scikit-learn/scikit-learn/issues/21755 */display: inline-block !important;position: relative;}#sk-container-id-1 div.sk-text-repr-fallback {display: none;}</style><div id=\"sk-container-id-1\" class=\"sk-top-container\"><div class=\"sk-text-repr-fallback\"><pre>GridSearchCV(cv=5, estimator=DecisionTreeRegressor(),\n",
       "             param_grid={&#x27;criterion&#x27;: [&#x27;squared_error&#x27;, &#x27;friedman_mse&#x27;],\n",
       "                         &#x27;max_depth&#x27;: [None, 105],\n",
       "                         &#x27;min_samples_split&#x27;: [2, 30]},\n",
       "             scoring=&#x27;neg_mean_squared_error&#x27;)</pre><b>In a Jupyter environment, please rerun this cell to show the HTML representation or trust the notebook. <br />On GitHub, the HTML representation is unable to render, please try loading this page with nbviewer.org.</b></div><div class=\"sk-container\" hidden><div class=\"sk-item sk-dashed-wrapped\"><div class=\"sk-label-container\"><div class=\"sk-label sk-toggleable\"><input class=\"sk-toggleable__control sk-hidden--visually\" id=\"sk-estimator-id-1\" type=\"checkbox\" ><label for=\"sk-estimator-id-1\" class=\"sk-toggleable__label sk-toggleable__label-arrow\">GridSearchCV</label><div class=\"sk-toggleable__content\"><pre>GridSearchCV(cv=5, estimator=DecisionTreeRegressor(),\n",
       "             param_grid={&#x27;criterion&#x27;: [&#x27;squared_error&#x27;, &#x27;friedman_mse&#x27;],\n",
       "                         &#x27;max_depth&#x27;: [None, 105],\n",
       "                         &#x27;min_samples_split&#x27;: [2, 30]},\n",
       "             scoring=&#x27;neg_mean_squared_error&#x27;)</pre></div></div></div><div class=\"sk-parallel\"><div class=\"sk-parallel-item\"><div class=\"sk-item\"><div class=\"sk-label-container\"><div class=\"sk-label sk-toggleable\"><input class=\"sk-toggleable__control sk-hidden--visually\" id=\"sk-estimator-id-2\" type=\"checkbox\" ><label for=\"sk-estimator-id-2\" class=\"sk-toggleable__label sk-toggleable__label-arrow\">estimator: DecisionTreeRegressor</label><div class=\"sk-toggleable__content\"><pre>DecisionTreeRegressor()</pre></div></div></div><div class=\"sk-serial\"><div class=\"sk-item\"><div class=\"sk-estimator sk-toggleable\"><input class=\"sk-toggleable__control sk-hidden--visually\" id=\"sk-estimator-id-3\" type=\"checkbox\" ><label for=\"sk-estimator-id-3\" class=\"sk-toggleable__label sk-toggleable__label-arrow\">DecisionTreeRegressor</label><div class=\"sk-toggleable__content\"><pre>DecisionTreeRegressor()</pre></div></div></div></div></div></div></div></div></div></div>"
      ],
      "text/plain": [
       "GridSearchCV(cv=5, estimator=DecisionTreeRegressor(),\n",
       "             param_grid={'criterion': ['squared_error', 'friedman_mse'],\n",
       "                         'max_depth': [None, 105],\n",
       "                         'min_samples_split': [2, 30]},\n",
       "             scoring='neg_mean_squared_error')"
      ]
     },
     "execution_count": 12,
     "metadata": {},
     "output_type": "execute_result"
    }
   ],
   "source": [
    "# Hyperparameter tuning using GridSearchCV.\n",
    "grid_search = GridSearchCV(estimator=model, param_grid=param_grid, scoring='neg_mean_squared_error', cv=5)\n",
    "\n",
    "# Execute the hyperparameter search.\n",
    "grid_search.fit(X_trans, y_train)"
   ]
  },
  {
   "cell_type": "code",
   "execution_count": 13,
   "id": "46d13f0e-d5f9-4e23-84dd-73f3dfb82cd6",
   "metadata": {
    "id": "46d13f0e-d5f9-4e23-84dd-73f3dfb82cd6",
    "tags": []
   },
   "outputs": [],
   "source": [
    "# Serialize and save the trained model (grid_search) using Pickle to a file named 'model.pkl'.\n",
    "import pickle\n",
    "pickle.dump(grid_search, open('model.pkl', 'wb'))"
   ]
  },
  {
   "cell_type": "markdown",
   "id": "4f69dca3-9d21-4df3-9617-2cd3d124f4db",
   "metadata": {
    "id": "4f69dca3-9d21-4df3-9617-2cd3d124f4db"
   },
   "source": [
    "## Model Evaluation"
   ]
  },
  {
   "cell_type": "code",
   "execution_count": 14,
   "id": "EF1StryQoJmA",
   "metadata": {
    "colab": {
     "base_uri": "https://localhost:8080/",
     "height": 74
    },
    "id": "EF1StryQoJmA",
    "outputId": "1b97ef46-231f-4b0b-9afa-3940781f5ece"
   },
   "outputs": [
    {
     "data": {
      "text/html": [
       "<style>#sk-container-id-2 {color: black;}#sk-container-id-2 pre{padding: 0;}#sk-container-id-2 div.sk-toggleable {background-color: white;}#sk-container-id-2 label.sk-toggleable__label {cursor: pointer;display: block;width: 100%;margin-bottom: 0;padding: 0.3em;box-sizing: border-box;text-align: center;}#sk-container-id-2 label.sk-toggleable__label-arrow:before {content: \"▸\";float: left;margin-right: 0.25em;color: #696969;}#sk-container-id-2 label.sk-toggleable__label-arrow:hover:before {color: black;}#sk-container-id-2 div.sk-estimator:hover label.sk-toggleable__label-arrow:before {color: black;}#sk-container-id-2 div.sk-toggleable__content {max-height: 0;max-width: 0;overflow: hidden;text-align: left;background-color: #f0f8ff;}#sk-container-id-2 div.sk-toggleable__content pre {margin: 0.2em;color: black;border-radius: 0.25em;background-color: #f0f8ff;}#sk-container-id-2 input.sk-toggleable__control:checked~div.sk-toggleable__content {max-height: 200px;max-width: 100%;overflow: auto;}#sk-container-id-2 input.sk-toggleable__control:checked~label.sk-toggleable__label-arrow:before {content: \"▾\";}#sk-container-id-2 div.sk-estimator input.sk-toggleable__control:checked~label.sk-toggleable__label {background-color: #d4ebff;}#sk-container-id-2 div.sk-label input.sk-toggleable__control:checked~label.sk-toggleable__label {background-color: #d4ebff;}#sk-container-id-2 input.sk-hidden--visually {border: 0;clip: rect(1px 1px 1px 1px);clip: rect(1px, 1px, 1px, 1px);height: 1px;margin: -1px;overflow: hidden;padding: 0;position: absolute;width: 1px;}#sk-container-id-2 div.sk-estimator {font-family: monospace;background-color: #f0f8ff;border: 1px dotted black;border-radius: 0.25em;box-sizing: border-box;margin-bottom: 0.5em;}#sk-container-id-2 div.sk-estimator:hover {background-color: #d4ebff;}#sk-container-id-2 div.sk-parallel-item::after {content: \"\";width: 100%;border-bottom: 1px solid gray;flex-grow: 1;}#sk-container-id-2 div.sk-label:hover label.sk-toggleable__label {background-color: #d4ebff;}#sk-container-id-2 div.sk-serial::before {content: \"\";position: absolute;border-left: 1px solid gray;box-sizing: border-box;top: 0;bottom: 0;left: 50%;z-index: 0;}#sk-container-id-2 div.sk-serial {display: flex;flex-direction: column;align-items: center;background-color: white;padding-right: 0.2em;padding-left: 0.2em;position: relative;}#sk-container-id-2 div.sk-item {position: relative;z-index: 1;}#sk-container-id-2 div.sk-parallel {display: flex;align-items: stretch;justify-content: center;background-color: white;position: relative;}#sk-container-id-2 div.sk-item::before, #sk-container-id-2 div.sk-parallel-item::before {content: \"\";position: absolute;border-left: 1px solid gray;box-sizing: border-box;top: 0;bottom: 0;left: 50%;z-index: -1;}#sk-container-id-2 div.sk-parallel-item {display: flex;flex-direction: column;z-index: 1;position: relative;background-color: white;}#sk-container-id-2 div.sk-parallel-item:first-child::after {align-self: flex-end;width: 50%;}#sk-container-id-2 div.sk-parallel-item:last-child::after {align-self: flex-start;width: 50%;}#sk-container-id-2 div.sk-parallel-item:only-child::after {width: 0;}#sk-container-id-2 div.sk-dashed-wrapped {border: 1px dashed gray;margin: 0 0.4em 0.5em 0.4em;box-sizing: border-box;padding-bottom: 0.4em;background-color: white;}#sk-container-id-2 div.sk-label label {font-family: monospace;font-weight: bold;display: inline-block;line-height: 1.2em;}#sk-container-id-2 div.sk-label-container {text-align: center;}#sk-container-id-2 div.sk-container {/* jupyter's `normalize.less` sets `[hidden] { display: none; }` but bootstrap.min.css set `[hidden] { display: none !important; }` so we also need the `!important` here to be able to override the default hidden behavior on the sphinx rendered scikit-learn.org. See: https://github.com/scikit-learn/scikit-learn/issues/21755 */display: inline-block !important;position: relative;}#sk-container-id-2 div.sk-text-repr-fallback {display: none;}</style><div id=\"sk-container-id-2\" class=\"sk-top-container\"><div class=\"sk-text-repr-fallback\"><pre>DecisionTreeRegressor(max_depth=105, min_samples_split=30)</pre><b>In a Jupyter environment, please rerun this cell to show the HTML representation or trust the notebook. <br />On GitHub, the HTML representation is unable to render, please try loading this page with nbviewer.org.</b></div><div class=\"sk-container\" hidden><div class=\"sk-item\"><div class=\"sk-estimator sk-toggleable\"><input class=\"sk-toggleable__control sk-hidden--visually\" id=\"sk-estimator-id-4\" type=\"checkbox\" checked><label for=\"sk-estimator-id-4\" class=\"sk-toggleable__label sk-toggleable__label-arrow\">DecisionTreeRegressor</label><div class=\"sk-toggleable__content\"><pre>DecisionTreeRegressor(max_depth=105, min_samples_split=30)</pre></div></div></div></div></div>"
      ],
      "text/plain": [
       "DecisionTreeRegressor(max_depth=105, min_samples_split=30)"
      ]
     },
     "execution_count": 14,
     "metadata": {},
     "output_type": "execute_result"
    }
   ],
   "source": [
    "# Retrieve the best estimator (model with optimal hyperparameters) from the GridSearchCV.\n",
    "grid_search.best_estimator_"
   ]
  },
  {
   "cell_type": "code",
   "execution_count": 15,
   "id": "Oxe8eT0GIIt8",
   "metadata": {
    "colab": {
     "base_uri": "https://localhost:8080/"
    },
    "id": "Oxe8eT0GIIt8",
    "outputId": "7ba2d664-25d5-49ad-afbb-1249e0e12c49"
   },
   "outputs": [
    {
     "data": {
      "text/plain": [
       "{'criterion': 'squared_error', 'max_depth': 105, 'min_samples_split': 30}"
      ]
     },
     "execution_count": 15,
     "metadata": {},
     "output_type": "execute_result"
    }
   ],
   "source": [
    "# Get the best hyperparameters selected by GridSearchCV.\n",
    "grid_search.best_params_"
   ]
  },
  {
   "cell_type": "code",
   "execution_count": 16,
   "id": "cf771455-0e9f-4ac5-a8f5-25f7babd7268",
   "metadata": {
    "colab": {
     "base_uri": "https://localhost:8080/"
    },
    "id": "cf771455-0e9f-4ac5-a8f5-25f7babd7268",
    "outputId": "28761541-11de-4d71-de6b-92a85fdd850c",
    "tags": []
   },
   "outputs": [
    {
     "data": {
      "text/plain": [
       "-190056317.24674505"
      ]
     },
     "execution_count": 16,
     "metadata": {},
     "output_type": "execute_result"
    }
   ],
   "source": [
    "# Retrieve the best negative mean squared error score achieved during hyperparameter tuning.\n",
    "grid_search.best_score_"
   ]
  },
  {
   "cell_type": "code",
   "execution_count": 17,
   "id": "6463407f-f5d0-4eeb-80a3-73fbd51f2a4a",
   "metadata": {
    "colab": {
     "base_uri": "https://localhost:8080/"
    },
    "id": "6463407f-f5d0-4eeb-80a3-73fbd51f2a4a",
    "outputId": "feace8bc-1a6e-4be4-d937-7aeb566f72d4",
    "tags": []
   },
   "outputs": [
    {
     "data": {
      "text/plain": [
       "0.9419780940962633"
      ]
     },
     "execution_count": 17,
     "metadata": {},
     "output_type": "execute_result"
    }
   ],
   "source": [
    "# Make predictions using the best estimator from GridSearchCV and calculate the R-squared score on the test data.\n",
    "X_test_trans = encoder.transform(X_test)\n",
    "y_pred = grid_search.predict(X_test_trans)\n",
    "r2_score(y_test,y_pred)"
   ]
  },
  {
   "cell_type": "code",
   "execution_count": 18,
   "id": "1c1f524c-e98a-483c-aebb-c001ca482b91",
   "metadata": {
    "colab": {
     "base_uri": "https://localhost:8080/",
     "height": 472
    },
    "id": "1c1f524c-e98a-483c-aebb-c001ca482b91",
    "outputId": "ef241c8a-0a5c-4d26-87d0-014f8bf1291a",
    "tags": []
   },
   "outputs": [
    {
     "data": {
      "image/png": "[encoded data removed]",
      "text/plain": [
       "<Figure size 640x480 with 1 Axes>"
      ]
     },
     "metadata": {},
     "output_type": "display_data"
    }
   ],
   "source": [
    "# Create Kernel Density Estimation (KDE) plot for model predictions (y_pred).\n",
    "sns.kdeplot(y_pred,color='b',label='Predicted')\n",
    "\n",
    "# Create a separate KDE plot for actual target values (y_test).\n",
    "sns.kdeplot(y_test,color='r',label='Actual')\n",
    "\n",
    "plt.legend()\n",
    "plt.xlabel('Weekly Sales')\n",
    "plt.title('Actual and Predicted Weekly Sales Distribution')\n",
    "plt.show()"
   ]
  },
  {
   "cell_type": "markdown",
   "id": "e9b670a4-cfa5-445e-b889-c8ea935990cd",
   "metadata": {
    "id": "e9b670a4-cfa5-445e-b889-c8ea935990cd"
   },
   "source": [
    "KDE plots visually assess predictive model performance by comparing its distribution to actual data. They offer a rapid evaluation of alignment and accuracy, aiding in understanding how well the model captures underlying patterns."
   ]
  },
  {
   "cell_type": "markdown",
   "id": "75d17325-3fb3-44d9-a106-7124d3b687d9",
   "metadata": {
    "id": "75d17325-3fb3-44d9-a106-7124d3b687d9"
   },
   "source": [
    "## Feature Importance"
   ]
  },
  {
   "cell_type": "code",
   "execution_count": 20,
   "id": "91f5ec94-c805-4469-9a8a-688b83867d9d",
   "metadata": {
    "colab": {
     "base_uri": "https://localhost:8080/",
     "height": 551
    },
    "id": "91f5ec94-c805-4469-9a8a-688b83867d9d",
    "outputId": "6812331a-6d2d-4aa0-f6b3-306447bde266",
    "tags": []
   },
   "outputs": [
    {
     "data": {
      "image/png": "[encoded data removed]",
      "text/plain": [
       "<Figure size 800x550 with 1 Axes>"
      ]
     },
     "metadata": {},
     "output_type": "display_data"
    }
   ],
   "source": [
    "from yellowbrick.model_selection import FeatureImportances\n",
    "\n",
    "# Create a FeatureImportances visualization using the Yellowbrick library to assess feature importance.\n",
    "viz = FeatureImportances(grid_search.estimator, labels=X_train.columns.values, topn=5, colors='b')\n",
    "\n",
    "# Fit the visualization to the training data and the target variable.\n",
    "viz.fit(X_trans, y_train)\n",
    "\n",
    "# Show the visualization\n",
    "viz.show()\n",
    "plt.show()"
   ]
  },
  {
   "cell_type": "markdown",
   "id": "Y4KocDVVKkyX",
   "metadata": {
    "id": "Y4KocDVVKkyX"
   },
   "source": [
    "## SARIMA Model"
   ]
  },
  {
   "cell_type": "markdown",
   "id": "f32a4230-b6d5-4efa-812f-0a9015db914c",
   "metadata": {
    "id": "ASilCrdeKrsn"
   },
   "source": [
    "**ARIMA** (AutoRegressive Integrated Moving Average):\n",
    "\n",
    "- ARIMA is a popular time series forecasting method. It stands for AutoRegressive Integrated Moving Average. ARIMA models are suitable for stationary time series data and consist of three main components: AutoRegressive (AR), Integrated (I), and Moving Average (MA).\n",
    "\n",
    "**SARIMA** (Seasonal AutoRegressive Integrated Moving Average):\n",
    "\n",
    "- SARIMA extends ARIMA by incorporating seasonality. It includes seasonal AutoRegressive (SAR), Integrated (SI), and Moving Average (SMA) components in addition to the non-seasonal ones.\n",
    "\n",
    "**Difference between ARIMA and SARIMA**:\n",
    "\n",
    "- The primary distinction is that ARIMA handles non-seasonal data, while SARIMA explicitly models and accounts for seasonality in time series data using additional seasonal parameters (P, D, Q).\n",
    "\n",
    "**Forecast Bias**:\n",
    "\n",
    "- Forecast bias refers to a consistent tendency in a forecasting model to either overestimate (positive bias) or underestimate (negative bias) actual values. In simpler terms, it means the model consistently gets predictions either too high or too low.\n",
    "\n",
    "- Understanding forecast bias is essential because it affects decision-making and resource allocation. Overcoming bias involves refining the model, adjusting parameters, or improving data quality to make forecasts more accurate. Monitoring bias helps maintain forecast reliability."
   ]
  },
  {
   "cell_type": "code",
   "execution_count": 21,
   "id": "d01b59c6-65c8-4369-8334-1aa975234fea",
   "metadata": {
    "tags": []
   },
   "outputs": [],
   "source": [
    "from statsmodels.tsa.statespace.sarimax import SARIMAX\n",
    "df_copy.Date= pd.to_datetime(df_copy.Date)\n",
    "df_time_series= df_copy[['Date','Store','Weekly_Sales']]\n",
    "df_time_series.to_csv('time_series.csv',index=False)"
   ]
  },
  {
   "cell_type": "code",
   "execution_count": 22,
   "id": "cc3a09c0-2008-4b99-94eb-ecf28e5657c9",
   "metadata": {},
   "outputs": [],
   "source": [
    "def forecast (*,DataFrame,Store,Month,Year):\n",
    "    \"\"\"\n",
    "    Perform SARIMA time series forecasting for a specific store's weekly sales.\n",
    "    The model will forecast results between 2012-05-18 and 2014-01-03. If an inserted date was before 2012-05-18,\n",
    "    the function's average weekly sales result will be historical and not forecasted.\n",
    "\n",
    "    Parameters:\n",
    "    - DataFrame (pd.DataFrame): The input DataFrame containing store data.\n",
    "    - Store (int): The store identifier for which forecasting is performed.\n",
    "    - Month (int): The target month for which sales forecasting is desired.\n",
    "    - Year (int): The target year for which sales forecasting is desired.\n",
    "\n",
    "    Returns:\n",
    "    float: The mean of weekly sales for the specified Month and Year.\n",
    "\n",
    "    This function filters the input DataFrame to select data for the specified store,\n",
    "    calculates the mean weekly sales, and then uses a SARIMA model to forecast sales for\n",
    "    a specified period into the future. It prints the mean weekly sales for the specified\n",
    "    month and year, the R-squared score, and visualizes the results. If no forecasted\n",
    "    values are available for the specified month and year, it falls back to using the\n",
    "    training data and prints a message.\n",
    "    \"\"\"\n",
    "     # Filter data for the specified store\n",
    "    df_forecast= DataFrame[(DataFrame.Store==Store) ]\n",
    "    \n",
    "    # Calculate the mean weekly sales by grouping data by date\n",
    "    ts=df_forecast.groupby('Date')['Weekly_Sales'].mean()\n",
    "\n",
    "    # Split data into training and test sets\n",
    "    ts_train= ts.head(120)\n",
    "    ts_test= ts.tail(23)\n",
    "    \n",
    "    # Define SARIMA model parameters\n",
    "    order = (1, 1, 1) \n",
    "    seasonal_order = (1, 1, 1, 52)\n",
    "\n",
    "    # Create and fit the SARIMA model to training data\n",
    "    sarima_model = SARIMAX(ts_train, order=order, seasonal_order=seasonal_order)\n",
    "    sarima_results = sarima_model.fit()\n",
    "\n",
    "    # Specify the forecast period\n",
    "    forecast_period = 85\n",
    "    \n",
    "    # Generate forecasts for the specified period\n",
    "    forecast = sarima_results.get_forecast(steps=forecast_period)\n",
    "    forecasted_values=forecast.predicted_mean\n",
    "    \n",
    "    # Filter forecasted values for the specified Month and Year\n",
    "    filtered=forecasted_values[(forecasted_values.index.year==Year) & (forecasted_values.index.month==Month)]\n",
    "    \n",
    "    # If no forecasted values are available, use training data and print a message\n",
    "    if filtered.empty:\n",
    "        filtered = ts_train[(ts_train.index.year==Year) & (ts_train.index.month==Month)]\n",
    "        print('Obsereved Values Not Forecasted')\n",
    "    \n",
    "    # Calculate R-squared score between observed and predicted sales\n",
    "    forecast_conf_int = forecast.conf_int()\n",
    "    ts_pred=[]\n",
    "    for i in ts_test.index:\n",
    "        ts_pred.append(sarima_results.predict(pd.Timestamp(i)))\n",
    "    ts_pred=np.array(ts_pred)\n",
    "\n",
    "    # Checking Forecast Bias\n",
    "    # Check if the bias is significantly different from zero using a t-test \n",
    "    # You can perform a hypothesis test to determine statistical significance.\n",
    "    # A bias close to zero indicates that the model's forecasts are, on average, accurate.\n",
    "    forecast_errors = ts_test.to_numpy().reshape(ts_test.shape[0],1) - ts_pred\n",
    "    bias= np.mean(forecast_errors)\n",
    "    t_stat, p_value = stats.ttest_1samp(forecast_errors, 0)\n",
    "    \n",
    "    if p_value < 0.05:  # Choose an appropriate significance level (e.g., 0.05)\n",
    "        print(\"The forecast has a significant bias.\")\n",
    "    else:\n",
    "        print(\"The forecast does not have a significant bias.\")\n",
    "        \n",
    "    # Print the mean Weekly sales for the specified Month and Year\n",
    "    print('\\n')\n",
    "    print(f'The mean Weekly sales for month {Month} and year {Year} is {filtered.mean():.2f}$')\n",
    "    print(f'The R-Squared for Test set is equal to {r2_score(ts_test,ts_pred):.3f}')\n",
    "    \n",
    "   \n",
    "    # Visualize the results using Matplotlib\n",
    "    plt.figure(figsize=(12, 6))\n",
    "    plt.plot(ts, label='Observed')\n",
    "    plt.plot(forecast.predicted_mean, label='Forecast', color='red')\n",
    "    plt.fill_between(forecast_conf_int.index, forecast_conf_int.iloc[:, 0], forecast_conf_int.iloc[:, 1], color='pink')\n",
    "    plt.axvline(ts_train.tail(1).index,color='orange')\n",
    "    plt.title('SARIMA Forecast for Store {}'.format(Store))\n",
    "    plt.ylabel('Aaverage Weekly Sales (Dollars)')\n",
    "    plt.xlabel('Date')\n",
    "    plt.legend()\n",
    "    \n",
    "    plt.show()\n",
    "\n",
    "    \n",
    "    \n",
    "    \n",
    "    # Return the mean of the filtered forecasted values\n",
    "    return filtered.mean()"
   ]
  },
  {
   "cell_type": "code",
   "execution_count": null,
   "id": "0908870c-4895-4183-855f-434acb482569",
   "metadata": {
    "tags": []
   },
   "outputs": [
    {
     "name": "stderr",
     "output_type": "stream",
     "text": [
      "C:\\Users\\Lenovo\\AppData\\Roaming\\Python\\Python310\\site-packages\\statsmodels\\tsa\\base\\tsa_model.py:473: ValueWarning: No frequency information was provided, so inferred frequency W-FRI will be used.\n",
      "  self._init_dates(dates, freq)\n",
      "C:\\Users\\Lenovo\\AppData\\Roaming\\Python\\Python310\\site-packages\\statsmodels\\tsa\\base\\tsa_model.py:473: ValueWarning: No frequency information was provided, so inferred frequency W-FRI will be used.\n",
      "  self._init_dates(dates, freq)\n"
     ]
    }
   ],
   "source": [
    "forcasted=forecast(DataFrame=df_copy,Store=5,Month=1,Year=2013)"
   ]
  },
  {
   "cell_type": "markdown",
   "id": "5ab9f269-c3b0-4254-b651-220ca9668bd6",
   "metadata": {},
   "source": [
    "### Sales Forecast Summary\n",
    "\n",
    "The `forecast` function is used to perform time series forecasting for a specific store's weekly sales data. It utilizes the SARIMA (Seasonal Autoregressive Integrated Moving Average) model to generate forecasts and provide insights into the sales data. Here's a high-level summary of the process:\n",
    "\n",
    "1. Data is filtered to select information for the specified store.\n",
    "2. Mean weekly sales are calculated based on date grouping.\n",
    "3. The data is split into a training set and a test set.\n",
    "4. SARIMA model parameters are defined and the model is fitted to the training data.\n",
    "5. Forecasts are generated for a specified future period.\n",
    "6. Forecasted values are filtered based on the desired month and year.\n",
    "7. If no forecasted values are available, observed values from the training data are used.\n",
    "8. The mean weekly sales for the specified month and year are calculated and printed.\n",
    "9. The R-squared score between observed and predicted sales is displayed.\n",
    "10. A visualization shows observed and forecasted sales data.\n",
    "\n",
    "Additional Bias Checking (Model Evaluation):\n",
    "- After forecasting, the function checks for forecast bias by calculating forecast errors and performing a hypothesis test to determine statistical significance.\n",
    "- A bias close to zero indicates that the model's forecasts are, on average, accurate.\n",
    "- If a significant bias is detected, it indicates that the model may consistently overestimate or underestimate sales values.\n",
    "\n",
    "\n",
    "This process provides valuable insights into future sales trends for a specific store."
   ]
  },
  {
   "cell_type": "code",
   "execution_count": null,
   "id": "73f7ce65-944a-4ec4-9f69-9f514b1f5b85",
   "metadata": {},
   "outputs": [],
   "source": []
  }
 ],
 "metadata": {
  "colab": {
   "provenance": []
  },
  "kernelspec": {
   "display_name": "Python 3 (ipykernel)",
   "language": "python",
   "name": "python3"
  },
  "language_info": {
   "codemirror_mode": {
    "name": "ipython",
    "version": 3
   },
   "file_extension": ".py",
   "mimetype": "text/x-python",
   "name": "python",
   "nbconvert_exporter": "python",
   "pygments_lexer": "ipython3",
   "version": "3.10.9"
  }
 },
 "nbformat": 4,
 "nbformat_minor": 5
}
